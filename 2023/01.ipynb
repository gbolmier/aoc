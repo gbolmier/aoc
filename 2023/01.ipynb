{
 "cells": [
  {
   "cell_type": "markdown",
   "metadata": {},
   "source": [
    "# Day 01"
   ]
  },
  {
   "cell_type": "markdown",
   "metadata": {},
   "source": [
    "Imports."
   ]
  },
  {
   "cell_type": "code",
   "execution_count": 1,
   "metadata": {},
   "outputs": [],
   "source": [
    "import functools\n",
    "import re\n"
   ]
  },
  {
   "cell_type": "markdown",
   "metadata": {},
   "source": [
    "Read input."
   ]
  },
  {
   "cell_type": "code",
   "execution_count": 2,
   "metadata": {},
   "outputs": [],
   "source": [
    "with open(\"01_input.txt\", \"r\") as f:\n",
    "    input = f.read().splitlines()\n"
   ]
  },
  {
   "cell_type": "markdown",
   "metadata": {},
   "source": [
    "## Part 1"
   ]
  },
  {
   "cell_type": "code",
   "execution_count": 3,
   "metadata": {},
   "outputs": [
    {
     "name": "stdout",
     "output_type": "stream",
     "text": [
      "536 µs ± 5.27 µs per loop (mean ± std. dev. of 7 runs, 1,000 loops each)\n"
     ]
    }
   ],
   "source": [
    "%%timeit\n",
    "\n",
    "res = sum(\n",
    "    int(digits[0] + digits[-1])\n",
    "    for line in input\n",
    "    if (digits := re.findall(r\"\\d\", line))\n",
    ")\n",
    "\n",
    "assert res == 53_334\n"
   ]
  },
  {
   "cell_type": "markdown",
   "metadata": {},
   "source": [
    "2nd solution, slightly slower but more readable."
   ]
  },
  {
   "cell_type": "code",
   "execution_count": 4,
   "metadata": {},
   "outputs": [
    {
     "name": "stdout",
     "output_type": "stream",
     "text": [
      "560 µs ± 9.53 µs per loop (mean ± std. dev. of 7 runs, 1,000 loops each)\n"
     ]
    }
   ],
   "source": [
    "%%timeit\n",
    "\n",
    "def parse_and_increment(sum: int, line: str):\n",
    "    digits = re.findall(r\"\\d\", line)\n",
    "    return sum + int(digits[0] + digits[-1])\n",
    "\n",
    "res = functools.reduce(parse_and_increment, input, 0)\n",
    "assert res == 53_334\n"
   ]
  },
  {
   "cell_type": "markdown",
   "metadata": {},
   "source": [
    "## Part 2"
   ]
  },
  {
   "cell_type": "markdown",
   "metadata": {},
   "source": [
    "Solution does not handle overlap (e.g. will parse \"52\" and not \"51\" for\n",
    "\"5vvlxrhtdtwoneq\")"
   ]
  },
  {
   "cell_type": "code",
   "execution_count": 5,
   "metadata": {},
   "outputs": [
    {
     "name": "stdout",
     "output_type": "stream",
     "text": [
      "996 µs ± 13.5 µs per loop (mean ± std. dev. of 7 runs, 1,000 loops each)\n"
     ]
    }
   ],
   "source": [
    "%%timeit\n",
    "\n",
    "mapping_int = {\n",
    "    str(x): str(x)\n",
    "    for x in range(1, 10)\n",
    "}\n",
    "\n",
    "mapping_int_names = {\n",
    "    name: str(ix + 1)\n",
    "    for ix, name in enumerate([\n",
    "        \"one\",\n",
    "        \"two\",\n",
    "        \"three\",\n",
    "        \"four\",\n",
    "        \"five\",\n",
    "        \"six\",\n",
    "        \"seven\",\n",
    "        \"eight\",\n",
    "        \"nine\",\n",
    "    ])\n",
    "}\n",
    "\n",
    "MAPPING = {\n",
    "    **mapping_int,\n",
    "    **mapping_int_names,\n",
    "}\n",
    "\n",
    "def parse_and_increment(sum: int, line: str):\n",
    "    pattern = r\"\\d|one|two|three|four|five|six|seven|eight|nine\"\n",
    "    digits = re.findall(pattern, line)\n",
    "    calibration_value = MAPPING[digits[0]] + MAPPING[digits[-1]]\n",
    "    return sum + int(calibration_value)\n",
    "\n",
    "res = functools.reduce(parse_and_increment, input, 0)\n",
    "assert res == 52_834\n"
   ]
  }
 ],
 "metadata": {
  "kernelspec": {
   "display_name": "Python 3",
   "language": "python",
   "name": "python3"
  },
  "language_info": {
   "codemirror_mode": {
    "name": "ipython",
    "version": 3
   },
   "file_extension": ".py",
   "mimetype": "text/x-python",
   "name": "python",
   "nbconvert_exporter": "python",
   "pygments_lexer": "ipython3",
   "version": "3.11.6"
  }
 },
 "nbformat": 4,
 "nbformat_minor": 2
}
