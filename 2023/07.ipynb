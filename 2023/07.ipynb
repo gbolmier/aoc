{
 "cells": [
  {
   "cell_type": "markdown",
   "metadata": {},
   "source": [
    "# Day 07"
   ]
  },
  {
   "cell_type": "markdown",
   "metadata": {},
   "source": [
    "Imports."
   ]
  },
  {
   "cell_type": "code",
   "execution_count": 1,
   "metadata": {},
   "outputs": [],
   "source": [
    "from collections import defaultdict\n"
   ]
  },
  {
   "cell_type": "markdown",
   "metadata": {},
   "source": [
    "Read input."
   ]
  },
  {
   "cell_type": "code",
   "execution_count": 2,
   "metadata": {},
   "outputs": [],
   "source": [
    "with open(\"07_input.txt\", \"r\") as f:\n",
    "    puzzle_input = f.read().splitlines()\n"
   ]
  },
  {
   "cell_type": "markdown",
   "metadata": {},
   "source": [
    "Define data structures and utilities."
   ]
  },
  {
   "cell_type": "code",
   "execution_count": 3,
   "metadata": {},
   "outputs": [],
   "source": [
    "class Hand:\n",
    "    card_strength : dict[str, int] = {\n",
    "        card: strength\n",
    "        for strength, card in enumerate(\"23456789TJQKA\")\n",
    "    }\n",
    "\n",
    "    def __init__(self, cards: str, bid: str, jokers: bool = False):\n",
    "        self.cards         : str                   = cards\n",
    "        self.bid           : int                   = int(bid)\n",
    "        self.unique_cards  : set                   = set(cards)\n",
    "        self.n_unique_cards: int                   = len(self.unique_cards)\n",
    "        self.card_counts   : defaultdict[str, int] = self._cnt_unique_cards()\n",
    "\n",
    "        if jokers and \"J\" in cards:\n",
    "            self._account_for_jokers()\n",
    "\n",
    "        self.type          : str                   = self._get_type()\n",
    "        self.type_score    : int                   = self._calc_type_score()\n",
    "\n",
    "    def _account_for_jokers(self) -> None:\n",
    "        n_jokers = self.card_counts.pop(\"J\")\n",
    "        if n_jokers == 5:\n",
    "\n",
    "            self.card_counts[\"A\"] = 5\n",
    "        else:\n",
    "            self.n_unique_cards -= 1\n",
    "            ties = len(set(self.card_counts.values())) == 1\n",
    "\n",
    "            if ties:\n",
    "                best_card = max(self.card_counts, key=self.card_strength.get)\n",
    "            else:\n",
    "                best_card = max(self.card_counts, key=self.card_counts.get)\n",
    "\n",
    "            self.card_counts[best_card] += n_jokers\n",
    "\n",
    "    def _cnt_unique_cards(self) -> defaultdict[str, int]:\n",
    "        card_counts = defaultdict(int)\n",
    "        for card in self.cards:\n",
    "            card_counts[card] += 1\n",
    "        return card_counts\n",
    "\n",
    "    def _get_type(self) -> str:\n",
    "        match self.n_unique_cards:\n",
    "            case 5:\n",
    "                hand_type = \"high_cards\"\n",
    "            case 4:\n",
    "                hand_type = \"one_pair\"\n",
    "            case 3:\n",
    "                if 2 in self.card_counts.values():\n",
    "                    hand_type = \"two_pairs\"\n",
    "                else:\n",
    "                    hand_type = \"three_of_a_kind\"\n",
    "            case 2:\n",
    "                if 2 in self.card_counts.values():\n",
    "                    hand_type = \"full_house\"\n",
    "                else:\n",
    "                    hand_type = \"four_of_a_kind\"\n",
    "            case 1:\n",
    "                hand_type = \"five_of_a_kind\"\n",
    "        return hand_type\n",
    "\n",
    "    def _calc_type_score(self) -> int:\n",
    "        n_cards_per_hand = 5\n",
    "        n_all_unique_cards = 13\n",
    "        weights = [n_all_unique_cards ** w for w in range(n_cards_per_hand, 0, -1)]\n",
    "\n",
    "        score = 0\n",
    "        for card, w in zip(self.cards, weights):\n",
    "            score += w * self.card_strength[card]\n",
    "\n",
    "        return score\n",
    "\n",
    "\n",
    "def parse_input(\n",
    "    puzzle_input: list[str], jokers: bool = False\n",
    ") -> dict[str, list[Hand]]:\n",
    "    hand_types = [\n",
    "        \"high_cards\",\n",
    "        \"one_pair\",\n",
    "        \"two_pairs\",\n",
    "        \"three_of_a_kind\",\n",
    "        \"full_house\",\n",
    "        \"four_of_a_kind\",\n",
    "        \"five_of_a_kind\",\n",
    "    ]\n",
    "    hands_by_type = {type_i: [] for type_i in hand_types}\n",
    "\n",
    "    for line in puzzle_input:\n",
    "        cards, bid = line.split()\n",
    "        hand = Hand(cards=cards, bid=bid, jokers=jokers)\n",
    "        hands_by_type[hand.type].append(hand)\n",
    "\n",
    "    return hands_by_type\n",
    "\n",
    "\n",
    "def calc_total_winnings(hands_by_type: dict[str, list[Hand]]) -> int:\n",
    "    total_winnings, rank = 0, 0\n",
    "    for type_i_hands in hands_by_type.values():\n",
    "        type_i_hands.sort(key=lambda hand: hand.type_score)\n",
    "\n",
    "        for hand in type_i_hands:\n",
    "            rank += 1\n",
    "            total_winnings += rank * hand.bid\n",
    "\n",
    "    return total_winnings\n"
   ]
  },
  {
   "cell_type": "markdown",
   "metadata": {},
   "source": [
    "## Part 1"
   ]
  },
  {
   "cell_type": "code",
   "execution_count": 4,
   "metadata": {},
   "outputs": [
    {
     "name": "stdout",
     "output_type": "stream",
     "text": [
      "1.97 ms ± 19.3 µs per loop (mean ± std. dev. of 7 runs, 100 loops each)\n"
     ]
    }
   ],
   "source": [
    "%%timeit\n",
    "\n",
    "hands_by_type = parse_input(puzzle_input=puzzle_input)\n",
    "total_winnings = calc_total_winnings(hands_by_type=hands_by_type)\n",
    "assert total_winnings == 248_422_077\n"
   ]
  },
  {
   "cell_type": "markdown",
   "metadata": {},
   "source": [
    "## Part 2"
   ]
  },
  {
   "cell_type": "code",
   "execution_count": 5,
   "metadata": {},
   "outputs": [
    {
     "name": "stdout",
     "output_type": "stream",
     "text": [
      "2.22 ms ± 8.01 µs per loop (mean ± std. dev. of 7 runs, 100 loops each)\n"
     ]
    }
   ],
   "source": [
    "%%timeit\n",
    "\n",
    "Hand.card_strength = {\n",
    "    card: strength\n",
    "    for strength, card in enumerate(\"J23456789TQKA\")\n",
    "}\n",
    "\n",
    "hands_by_type = parse_input(puzzle_input=puzzle_input, jokers=True)\n",
    "total_winnings = calc_total_winnings(hands_by_type=hands_by_type)\n",
    "assert total_winnings == 249_817_836\n"
   ]
  }
 ],
 "metadata": {
  "kernelspec": {
   "display_name": "Python 3",
   "language": "python",
   "name": "python3"
  },
  "language_info": {
   "codemirror_mode": {
    "name": "ipython",
    "version": 3
   },
   "file_extension": ".py",
   "mimetype": "text/x-python",
   "name": "python",
   "nbconvert_exporter": "python",
   "pygments_lexer": "ipython3",
   "version": "3.11.6"
  }
 },
 "nbformat": 4,
 "nbformat_minor": 2
}
