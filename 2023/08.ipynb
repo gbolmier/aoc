{
 "cells": [
  {
   "cell_type": "markdown",
   "metadata": {},
   "source": [
    "# Day 08"
   ]
  },
  {
   "cell_type": "markdown",
   "metadata": {},
   "source": [
    "Imports."
   ]
  },
  {
   "cell_type": "code",
   "execution_count": 1,
   "metadata": {},
   "outputs": [],
   "source": [
    "import math\n",
    "from functools import reduce\n"
   ]
  },
  {
   "cell_type": "markdown",
   "metadata": {},
   "source": [
    "Read input."
   ]
  },
  {
   "cell_type": "code",
   "execution_count": 2,
   "metadata": {},
   "outputs": [],
   "source": [
    "with open(\"08_input.txt\", \"r\") as f:\n",
    "    puzzle_data = f.read().splitlines()\n"
   ]
  },
  {
   "cell_type": "markdown",
   "metadata": {},
   "source": [
    "Define utilities."
   ]
  },
  {
   "cell_type": "code",
   "execution_count": 3,
   "metadata": {},
   "outputs": [],
   "source": [
    "def parse_input(\n",
    "    puzzle_data: list[str], part_2: bool = False\n",
    ") -> tuple[str, dict[str, tuple[str, str]], list[str]]:\n",
    "    directions = puzzle_data[0].replace(\"L\", \"0\").replace(\"R\", \"1\")\n",
    "    directions = [int(dir_i) for dir_i in directions]\n",
    "\n",
    "    network = {}\n",
    "    starting_nodes = []\n",
    "    for line in puzzle_data[2:]:\n",
    "        node, left, right = line[:3], line[7:10], line[12:15]\n",
    "        network[node] = (left, right)\n",
    "\n",
    "        if part_2:\n",
    "            if node[-1] == \"A\":\n",
    "                starting_nodes.append(node)\n",
    "\n",
    "    return directions, network, starting_nodes\n"
   ]
  },
  {
   "cell_type": "markdown",
   "metadata": {},
   "source": [
    "## Part 1"
   ]
  },
  {
   "cell_type": "code",
   "execution_count": 4,
   "metadata": {},
   "outputs": [
    {
     "name": "stdout",
     "output_type": "stream",
     "text": [
      "1.14 ms ± 14.2 µs per loop (mean ± std. dev. of 7 runs, 1,000 loops each)\n"
     ]
    }
   ],
   "source": [
    "%%timeit\n",
    "\n",
    "directions, network, _ = parse_input(puzzle_data)\n",
    "n_steps = 0\n",
    "curr_node = \"AAA\"\n",
    "\n",
    "while curr_node != \"ZZZ\":\n",
    "    for dir_i in directions:\n",
    "        n_steps += 1\n",
    "        curr_node = network[curr_node][dir_i]\n",
    "        if curr_node == \"ZZZ\":\n",
    "            break\n",
    "\n",
    "assert n_steps == 24_253\n"
   ]
  },
  {
   "cell_type": "markdown",
   "metadata": {},
   "source": [
    "## Part 2"
   ]
  },
  {
   "cell_type": "code",
   "execution_count": 5,
   "metadata": {},
   "outputs": [
    {
     "name": "stdout",
     "output_type": "stream",
     "text": [
      "6.09 ms ± 59.5 µs per loop (mean ± std. dev. of 7 runs, 100 loops each)\n"
     ]
    }
   ],
   "source": [
    "%%timeit\n",
    "\n",
    "directions, network, starting_nodes = parse_input(puzzle_data, part_2=True)\n",
    "\n",
    "# Get paths number of steps to their end node\n",
    "path_n_steps_to_end_node = []\n",
    "for curr_node in starting_nodes:\n",
    "    n_steps = 0\n",
    "    while curr_node[-1] != \"Z\":\n",
    "        for dir_i in directions:\n",
    "            n_steps += 1\n",
    "            curr_node = network[curr_node][dir_i]\n",
    "            if curr_node[-1] == \"Z\":\n",
    "                break\n",
    "    path_n_steps_to_end_node.append(n_steps)\n",
    "\n",
    "# Get the number of steps so that all path are on their end node simultaneously\n",
    "def lcmm(*args):\n",
    "    return reduce(math.lcm, args)\n",
    "\n",
    "assert lcmm(*path_n_steps_to_end_node) == 12_357_789_728_873\n"
   ]
  }
 ],
 "metadata": {
  "kernelspec": {
   "display_name": "Python 3",
   "language": "python",
   "name": "python3"
  },
  "language_info": {
   "codemirror_mode": {
    "name": "ipython",
    "version": 3
   },
   "file_extension": ".py",
   "mimetype": "text/x-python",
   "name": "python",
   "nbconvert_exporter": "python",
   "pygments_lexer": "ipython3",
   "version": "3.11.6"
  }
 },
 "nbformat": 4,
 "nbformat_minor": 2
}
