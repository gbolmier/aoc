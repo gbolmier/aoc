{
 "cells": [
  {
   "cell_type": "markdown",
   "metadata": {},
   "source": [
    "# Day 09"
   ]
  },
  {
   "cell_type": "markdown",
   "metadata": {},
   "source": [
    "Read input."
   ]
  },
  {
   "cell_type": "code",
   "execution_count": 1,
   "metadata": {},
   "outputs": [],
   "source": [
    "with open(\"09_input.txt\", \"r\") as f:\n",
    "    puzzle_data = f.read().splitlines()\n"
   ]
  },
  {
   "cell_type": "markdown",
   "metadata": {},
   "source": [
    "Define utility functions."
   ]
  },
  {
   "cell_type": "code",
   "execution_count": 2,
   "metadata": {},
   "outputs": [],
   "source": [
    "def parse_input(puzzle_data: list[str]) -> list[list[int]]:\n",
    "    return [\n",
    "        [int(nb) for nb in line.split()]\n",
    "        for line in puzzle_data\n",
    "    ]\n",
    "\n",
    "\n",
    "def gen_sequences(val_history: list[int]) -> list[list[int]]:\n",
    "    sequences = [val_history]\n",
    "    while not all(value == 0 for value in sequences[-1]):\n",
    "        new_sequence = []\n",
    "        for ix in range(len(sequences[-1]) - 1):\n",
    "            diff = sequences[-1][ix + 1] - sequences[-1][ix]\n",
    "            new_sequence.append(diff)\n",
    "        sequences.append(new_sequence)\n",
    "    return sequences\n",
    "\n",
    "\n",
    "def extrapolate_next_value(sequences: list[list[int]]) -> int:\n",
    "    sequences[-1].append(0)\n",
    "    for ix in range(len(sequences) - 2, -1, -1):\n",
    "        sequences[ix].append(sequences[ix][-1] + sequences[ix + 1][-1])\n",
    "    return sequences[0][-1]\n",
    "\n",
    "\n",
    "def extrapolate_prev_value(sequences: list[list[int]]) -> int:\n",
    "    sequences[-1].insert(0, 0)\n",
    "    for ix in range(len(sequences) - 2, -1, -1):\n",
    "        sequences[ix].insert(0, sequences[ix][0] - sequences[ix + 1][0])\n",
    "    return sequences[0][0]\n"
   ]
  },
  {
   "cell_type": "markdown",
   "metadata": {},
   "source": [
    "## Part 1"
   ]
  },
  {
   "cell_type": "code",
   "execution_count": 3,
   "metadata": {},
   "outputs": [
    {
     "name": "stdout",
     "output_type": "stream",
     "text": [
      "3.03 ms ± 34 µs per loop (mean ± std. dev. of 7 runs, 100 loops each)\n"
     ]
    }
   ],
   "source": [
    "%%timeit\n",
    "\n",
    "report = parse_input(puzzle_data=puzzle_data)\n",
    "\n",
    "extrapolated_values_sum = 0\n",
    "for val_history in report:\n",
    "    sequences = gen_sequences(val_history)\n",
    "    extrapolated_values_sum += extrapolate_next_value(sequences)\n",
    "\n",
    "assert extrapolated_values_sum == 1_696_140_818\n"
   ]
  },
  {
   "cell_type": "markdown",
   "metadata": {},
   "source": [
    "## Part 2"
   ]
  },
  {
   "cell_type": "code",
   "execution_count": 4,
   "metadata": {},
   "outputs": [
    {
     "name": "stdout",
     "output_type": "stream",
     "text": [
      "3.09 ms ± 51.7 µs per loop (mean ± std. dev. of 7 runs, 100 loops each)\n"
     ]
    }
   ],
   "source": [
    "%%timeit\n",
    "\n",
    "report = parse_input(puzzle_data=puzzle_data)\n",
    "\n",
    "extrapolated_values_sum = 0\n",
    "for val_history in report:\n",
    "    sequences = gen_sequences(val_history)\n",
    "    extrapolated_values_sum += extrapolate_prev_value(sequences)\n",
    "\n",
    "assert extrapolated_values_sum == 1_152\n"
   ]
  }
 ],
 "metadata": {
  "kernelspec": {
   "display_name": "Python 3",
   "language": "python",
   "name": "python3"
  },
  "language_info": {
   "codemirror_mode": {
    "name": "ipython",
    "version": 3
   },
   "file_extension": ".py",
   "mimetype": "text/x-python",
   "name": "python",
   "nbconvert_exporter": "python",
   "pygments_lexer": "ipython3",
   "version": "3.11.6"
  }
 },
 "nbformat": 4,
 "nbformat_minor": 2
}
