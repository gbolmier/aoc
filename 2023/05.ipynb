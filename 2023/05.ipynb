{
 "cells": [
  {
   "cell_type": "markdown",
   "metadata": {},
   "source": [
    "# Day 05"
   ]
  },
  {
   "cell_type": "markdown",
   "metadata": {},
   "source": [
    "Imports."
   ]
  },
  {
   "cell_type": "code",
   "execution_count": 1,
   "metadata": {},
   "outputs": [],
   "source": [
    "from dataclasses import dataclass\n",
    "import sys\n"
   ]
  },
  {
   "cell_type": "markdown",
   "metadata": {},
   "source": [
    "Read input."
   ]
  },
  {
   "cell_type": "code",
   "execution_count": 2,
   "metadata": {},
   "outputs": [],
   "source": [
    "with open(\"05_input.txt\", \"r\") as f:\n",
    "    input = f.read().strip()\n"
   ]
  },
  {
   "cell_type": "markdown",
   "metadata": {},
   "source": [
    "## Part 1"
   ]
  },
  {
   "cell_type": "markdown",
   "metadata": {},
   "source": [
    "Define data structures and utilities."
   ]
  },
  {
   "cell_type": "code",
   "execution_count": 3,
   "metadata": {},
   "outputs": [],
   "source": [
    "@dataclass\n",
    "class Interval:\n",
    "    start: int\n",
    "    end: int\n",
    "\n",
    "    def __contains__(self, item: int) -> bool:\n",
    "        return self.start <= item < self.end\n",
    "\n",
    "    def __gt__(self, other: \"Interval\") -> bool:\n",
    "        return self.start > other.start\n",
    "\n",
    "    def __repr__(self) -> str:\n",
    "        return f\"[{self.start}:{self.end})\"\n",
    "\n",
    "    def overlaps(self, other: \"Interval\") -> bool:\n",
    "        return self.start < other.end and other.start < self.end\n",
    "\n",
    "    def intersection(self, other: \"Interval\") -> \"Interval\":\n",
    "        if not self.overlaps(other):\n",
    "            return None\n",
    "        return Interval(\n",
    "            start=max(self.start, other.start),\n",
    "            end=min(self.end, other.end),\n",
    "        )\n",
    "\n",
    "@dataclass\n",
    "class DualInterval:\n",
    "    src: Interval\n",
    "    dest: Interval\n",
    "    src_to_dest_dist: int\n",
    "\n",
    "    def __init__(self, dest_start: int, src_start: int, range_length: int):\n",
    "        self.src = Interval(src_start, src_start + range_length)\n",
    "        self.dest = Interval(dest_start, dest_start + range_length)\n",
    "        self.src_to_dest_dist = dest_start - src_start\n",
    "\n",
    "    def __contains__(self, item: int) -> bool:\n",
    "        return item in self.src\n",
    "\n",
    "    def __repr__(self) -> str:\n",
    "        return f\"{self.src} -> {self.dest}\"\n",
    "\n",
    "    def src_to_dest(self, item: int) -> int:\n",
    "        return item + self.src_to_dest_dist\n",
    "\n",
    "    def dest_to_src(self, item: int) -> int:\n",
    "        return item - self.src_to_dest_dist\n",
    "\n",
    "@dataclass\n",
    "class Map:\n",
    "    dual_intervals: list[DualInterval]\n",
    "\n",
    "    def __init__(self, dual_intervals: list[DualInterval]):\n",
    "        self.dual_intervals = dual_intervals\n",
    "        self.sort(by_src=True)\n",
    "        self._fill_gaps()\n",
    "\n",
    "    def sort(self, by_src: bool = True) -> None:\n",
    "        if by_src:\n",
    "            self.dual_intervals.sort(key=lambda x: x.src.start)\n",
    "        else:\n",
    "            self.dual_intervals.sort(key=lambda x: x.dest.start)\n",
    "\n",
    "    def _fill_gaps(self) -> None:\n",
    "        # Between each interval\n",
    "        for ix in range(1, len(self.dual_intervals)):\n",
    "            prev_di = self.dual_intervals[ix - 1]\n",
    "            curr_di = self.dual_intervals[ix]\n",
    "            if prev_di.src.end != curr_di.src.start:\n",
    "                range_length = curr_di.src.start - prev_di.src.end\n",
    "                new_di = DualInterval(prev_di.src.end, prev_di.src.end, range_length)\n",
    "                self.dual_intervals.insert(ix, new_di)\n",
    "\n",
    "        # Between 0 and the first interval\n",
    "        first_di = self.dual_intervals[0]\n",
    "        if 0 not in first_di:\n",
    "            new_first_di = DualInterval(0, 0, first_di.src.start)\n",
    "            self.dual_intervals.insert(0, new_first_di)\n",
    "\n",
    "        # Between the last interval and the max int\n",
    "        last_di = self.dual_intervals[-1]\n",
    "        max_int = sys.maxsize\n",
    "        if max_int not in last_di:\n",
    "            range_length = max_int - last_di.src.end\n",
    "            new_last_di = DualInterval(last_di.src.end, last_di.src.end, range_length)\n",
    "            self.dual_intervals.append(new_last_di)\n",
    "\n",
    "    def src_to_dest(self, item: int) -> int:\n",
    "        for di in self.dual_intervals:\n",
    "            if item in di:\n",
    "                return di.src_to_dest(item)\n",
    "        raise ValueError(f\"{item} not in {self.dual_intervals}\")\n",
    "\n",
    "\n",
    "def parse_maps(map_sections: list[str]) -> list[Map]:\n",
    "    maps = []\n",
    "    for section in map_sections:\n",
    "        dual_intervals = []\n",
    "        for line in section.split(\"\\n\")[1:]:\n",
    "            di = DualInterval(*[int(x) for x in line.split()])\n",
    "            dual_intervals.append(di)\n",
    "        maps.append(Map(dual_intervals))\n",
    "    return maps\n",
    "\n",
    "\n",
    "def parse_part_1(input: str) -> tuple[list[int], list[Map]]:\n",
    "    sections = input.split(\"\\n\\n\")\n",
    "    seeds = [int(seed) for seed in sections[0].split(\": \")[1].split(\" \")]\n",
    "    maps = parse_maps(map_sections=sections[1:])\n",
    "    return seeds, maps\n",
    "\n",
    "\n",
    "def seed_to_location(seed: int, maps: list[Map]) -> int:\n",
    "    dest_nb = seed\n",
    "    for map_i in maps:\n",
    "        dest_nb = map_i.src_to_dest(dest_nb)\n",
    "    return dest_nb\n"
   ]
  },
  {
   "cell_type": "code",
   "execution_count": 4,
   "metadata": {},
   "outputs": [
    {
     "name": "stdout",
     "output_type": "stream",
     "text": [
      "513 µs ± 9.64 µs per loop (mean ± std. dev. of 7 runs, 1,000 loops each)\n"
     ]
    }
   ],
   "source": [
    "%%timeit\n",
    "\n",
    "def part_1(input: str) -> int:\n",
    "    seeds, maps = parse_part_1(input)\n",
    "    min_location = 1e9\n",
    "\n",
    "    for seed_i in seeds:\n",
    "        location = seed_to_location(seed_i, maps)\n",
    "        min_location = min(min_location, location)\n",
    "\n",
    "    return min_location\n",
    "\n",
    "min_location = part_1(input)\n",
    "assert min_location == 177_942_185\n"
   ]
  },
  {
   "cell_type": "markdown",
   "metadata": {},
   "source": [
    "## Part 2"
   ]
  },
  {
   "cell_type": "markdown",
   "metadata": {},
   "source": [
    "Define utilities."
   ]
  },
  {
   "cell_type": "code",
   "execution_count": 5,
   "metadata": {},
   "outputs": [],
   "source": [
    "def parse_seeds(seed_section: str) -> list[Interval]:\n",
    "    seeds = [int(seed) for seed in seed_section.split(\": \")[1].split(\" \")]\n",
    "    seed_pairs = [(seeds[ix], seeds[ix + 1]) for ix in range(0, len(seeds), 2)]\n",
    "    sorted_seed_pairs = sorted(seed_pairs, key=lambda x: x[0])\n",
    "    return [\n",
    "        Interval(start, start + length)\n",
    "        for start, length in sorted_seed_pairs\n",
    "    ]\n",
    "\n",
    "\n",
    "def parse_part_2(input: str) -> tuple[list[Interval], list[Map]]:\n",
    "    sections = input.split(\"\\n\\n\")\n",
    "    seeds = parse_seeds(seed_section=sections[0])\n",
    "    maps = parse_maps(map_sections=sections[1:])\n",
    "    return seeds, maps\n",
    "\n",
    "\n",
    "def find_best_seed(seeds: list[Interval], map_src_intervals: list[Interval]):\n",
    "    # map_src_intervals is the list of the first map intervals sorted to give\n",
    "    # the lowest locations first.\n",
    "    for src_interval in map_src_intervals:\n",
    "        for seed_interval in seeds:\n",
    "            if src_interval.overlaps(seed_interval):\n",
    "                intersection = src_interval.intersection(seed_interval)\n",
    "                return intersection.start\n"
   ]
  },
  {
   "cell_type": "code",
   "execution_count": 6,
   "metadata": {},
   "outputs": [
    {
     "name": "stdout",
     "output_type": "stream",
     "text": [
      "2.56 ms ± 51 µs per loop (mean ± std. dev. of 7 runs, 100 loops each)\n"
     ]
    }
   ],
   "source": [
    "%%timeit\n",
    "\n",
    "seeds, maps = parse_part_2(input)\n",
    "\n",
    "last_map = maps[-1]\n",
    "# Sort by destination to get lowest location intervals first\n",
    "last_map.sort(by_src=False)\n",
    "last_map_src_intervals = [di.src for di in last_map.dual_intervals]\n",
    "\n",
    "for map_i in reversed(maps[:-1]):\n",
    "    higher_is_better = last_map_src_intervals[0] > last_map_src_intervals[1]\n",
    "    next_last_map_src_intervals = []\n",
    "\n",
    "    for src_interval in last_map_src_intervals:\n",
    "        dest_intersections, src_intersections = [], []\n",
    "\n",
    "        for di in map_i.dual_intervals:\n",
    "            if src_interval.overlaps(di.dest):\n",
    "                dest_inter = src_interval.intersection(di.dest)\n",
    "                dest_intersections.append(dest_inter)\n",
    "                src_inter = Interval(\n",
    "                    start=di.dest_to_src(dest_inter.start),\n",
    "                    end=di.dest_to_src(dest_inter.end),\n",
    "                )\n",
    "                src_intersections.append(src_inter)\n",
    "\n",
    "        src_intersections = [\n",
    "            src_inter\n",
    "            for _, src_inter in sorted(\n",
    "                zip(dest_intersections, src_intersections),\n",
    "                key=lambda pair: pair[0].start,\n",
    "                reverse=higher_is_better\n",
    "            )\n",
    "        ]\n",
    "\n",
    "        next_last_map_src_intervals.extend(src_intersections)\n",
    "\n",
    "    last_map_src_intervals = next_last_map_src_intervals\n",
    "\n",
    "best_seed = find_best_seed(seeds, last_map_src_intervals)\n",
    "location = seed_to_location(best_seed, maps)\n",
    "assert location == 69_841_803\n"
   ]
  }
 ],
 "metadata": {
  "kernelspec": {
   "display_name": "Python 3",
   "language": "python",
   "name": "python3"
  },
  "language_info": {
   "codemirror_mode": {
    "name": "ipython",
    "version": 3
   },
   "file_extension": ".py",
   "mimetype": "text/x-python",
   "name": "python",
   "nbconvert_exporter": "python",
   "pygments_lexer": "ipython3",
   "version": "3.11.6"
  }
 },
 "nbformat": 4,
 "nbformat_minor": 2
}
