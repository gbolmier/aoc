{
 "cells": [
  {
   "cell_type": "markdown",
   "metadata": {},
   "source": [
    "# Day 02"
   ]
  },
  {
   "cell_type": "markdown",
   "metadata": {},
   "source": [
    "Imports."
   ]
  },
  {
   "cell_type": "code",
   "execution_count": 1,
   "metadata": {},
   "outputs": [],
   "source": [
    "import functools\n"
   ]
  },
  {
   "cell_type": "markdown",
   "metadata": {},
   "source": [
    "Read input."
   ]
  },
  {
   "cell_type": "code",
   "execution_count": 2,
   "metadata": {},
   "outputs": [],
   "source": [
    "with open(\"02_input.txt\", \"r\") as f:\n",
    "    input = f.read().splitlines()\n"
   ]
  },
  {
   "cell_type": "markdown",
   "metadata": {},
   "source": [
    "## Part 1"
   ]
  },
  {
   "cell_type": "code",
   "execution_count": 3,
   "metadata": {},
   "outputs": [
    {
     "name": "stdout",
     "output_type": "stream",
     "text": [
      "296 µs ± 7.21 µs per loop (mean ± std. dev. of 7 runs, 1,000 loops each)\n"
     ]
    }
   ],
   "source": [
    "%%timeit\n",
    "\n",
    "n_colors = {\"red\": 12, \"green\": 13, \"blue\": 14}\n",
    "sum = 0\n",
    "\n",
    "for line in input:\n",
    "    # line = \"Game 1: 3 blue, 4 red; 1 red, 2 green, 6 blue; 2 green\"\n",
    "    possible = True\n",
    "    colon_ix = line.find(\":\")\n",
    "\n",
    "    for sample in line[colon_ix + 1:].split(\";\"):\n",
    "        # sample = \" 1 red, 2 green, 6 blue\"\n",
    "\n",
    "        for sample_color in sample.split(\",\"):\n",
    "            # sample_color = \" 1 red\"\n",
    "            value, color = sample_color[1:].split()\n",
    "            if int(value) > n_colors[color]:\n",
    "                possible = False\n",
    "\n",
    "    if possible:\n",
    "        game_id = int(line[5:colon_ix])\n",
    "        sum += game_id\n",
    "\n",
    "assert sum == 2_617\n"
   ]
  },
  {
   "cell_type": "markdown",
   "metadata": {},
   "source": [
    "## Part 2"
   ]
  },
  {
   "cell_type": "code",
   "execution_count": 4,
   "metadata": {},
   "outputs": [
    {
     "name": "stdout",
     "output_type": "stream",
     "text": [
      "361 µs ± 2.87 µs per loop (mean ± std. dev. of 7 runs, 1,000 loops each)\n"
     ]
    }
   ],
   "source": [
    "%%timeit\n",
    "\n",
    "n_colors = {\"red\": 12, \"green\": 13, \"blue\": 14}\n",
    "sum = 0\n",
    "\n",
    "for line in input:\n",
    "    # line = \"Game 1: 3 blue, 4 red; 1 red, 2 green, 6 blue; 2 green\"\n",
    "    max_colors_seen = {\"red\": 0, \"green\": 0, \"blue\": 0}\n",
    "    colon_ix = line.find(\":\")\n",
    "\n",
    "    for sample in line[colon_ix + 1:].split(\";\"):\n",
    "        # sample = \" 1 red, 2 green, 6 blue\"\n",
    "\n",
    "        for sample_color in sample.split(\",\"):\n",
    "            # sample_color = \" 1 red\"\n",
    "            value, color = sample_color[1:].split()\n",
    "            if int(value) > max_colors_seen[color]:\n",
    "                max_colors_seen[color] = int(value)\n",
    "\n",
    "    sample_power = functools.reduce(lambda x, y: x*y, max_colors_seen.values())\n",
    "    sum += sample_power\n",
    "\n",
    "assert sum == 59_795\n"
   ]
  }
 ],
 "metadata": {
  "kernelspec": {
   "display_name": "Python 3",
   "language": "python",
   "name": "python3"
  },
  "language_info": {
   "codemirror_mode": {
    "name": "ipython",
    "version": 3
   },
   "file_extension": ".py",
   "mimetype": "text/x-python",
   "name": "python",
   "nbconvert_exporter": "python",
   "pygments_lexer": "ipython3",
   "version": "3.11.6"
  }
 },
 "nbformat": 4,
 "nbformat_minor": 2
}
