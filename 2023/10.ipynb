{
 "cells": [
  {
   "cell_type": "markdown",
   "metadata": {},
   "source": [
    "# Day 10"
   ]
  },
  {
   "cell_type": "markdown",
   "metadata": {},
   "source": [
    "Imports."
   ]
  },
  {
   "cell_type": "code",
   "execution_count": 1,
   "metadata": {},
   "outputs": [],
   "source": [
    "from collections import namedtuple\n",
    "from typing import Literal, Optional\n"
   ]
  },
  {
   "cell_type": "markdown",
   "metadata": {},
   "source": [
    "Read input."
   ]
  },
  {
   "cell_type": "code",
   "execution_count": 2,
   "metadata": {},
   "outputs": [],
   "source": [
    "with open(\"10_input.txt\", \"r\") as f:\n",
    "    puzzle_data = f.read().splitlines()\n"
   ]
  },
  {
   "cell_type": "markdown",
   "metadata": {},
   "source": [
    "Define data structures and utilities."
   ]
  },
  {
   "cell_type": "code",
   "execution_count": 3,
   "metadata": {},
   "outputs": [],
   "source": [
    "Pipe      = Literal[\"|\", \"-\", \"L\", \"J\", \"7\", \"F\", \".\", \"S\"]\n",
    "Direction = Literal[\"up\", \"down\", \"right\", \"left\"]\n",
    "Position  = namedtuple(\"Position\", \"x y\")\n",
    "\n",
    "class DirectionError(Exception):\n",
    "    def __init__(self, direction: Direction, next_pipe: Pipe) -> None:\n",
    "        super().__init__(f\"Going {direction} to {next_pipe} is not possible\")\n",
    "\n",
    "class PipeMaze:\n",
    "\n",
    "    def __init__(self, maze: list[str]) -> None:\n",
    "        self.maze: tuple[str] = maze\n",
    "        self.n_rows: int = len(self.maze)\n",
    "        self.n_cols: int = len(self.maze[0])\n",
    "        self.curr_position: Position = self.get_starting_position()\n",
    "        self.pipe_valid_directions = {\n",
    "            \"|\": (\"up\", \"down\"),\n",
    "            \"-\": (\"right\", \"left\"),\n",
    "            \"L\": (\"down\", \"left\"),\n",
    "            \"J\": (\"down\", \"right\"),\n",
    "            \"7\": (\"up\", \"right\"),\n",
    "            \"F\": (\"up\", \"left\"),\n",
    "            \"S\": self._get_starting_position_valid_directions(),\n",
    "        }\n",
    "\n",
    "    def get_starting_position(self) -> Position:\n",
    "        starting_1D_x = \"\".join(self.maze).find(\"S\")\n",
    "        starting_2D_x = starting_1D_x // self.n_cols\n",
    "        starting_2D_y = starting_1D_x - self.n_cols * starting_2D_x\n",
    "        return Position(x=starting_2D_x, y=starting_2D_y)\n",
    "\n",
    "    def _get_starting_position_valid_directions(self) -> tuple[Direction]:\n",
    "        all_directions  = [\"up\", \"down\", \"right\", \"left\"]\n",
    "        all_valid_pipes = [\"|7F\", \"|JL\", \"-7J\", \"-FL\"]\n",
    "        valid_directions = []\n",
    "\n",
    "        for direction, valid_pipes in zip(all_directions, all_valid_pipes):\n",
    "            next_position = self.get_next_position(direction=direction)\n",
    "            next_pipe = self.get_pipe(position=next_position)\n",
    "            if next_pipe in valid_pipes:\n",
    "                valid_directions.append(direction)\n",
    "\n",
    "        return tuple(valid_directions)\n",
    "\n",
    "    def go_direction(self, direction: Direction) -> None:\n",
    "        next_position = self.get_next_position(direction=direction)\n",
    "\n",
    "        # Check if next_position is valid\n",
    "        next_pipe = self.get_pipe(position=next_position)\n",
    "        if direction not in self.pipe_valid_directions[next_pipe]:\n",
    "            raise DirectionError(direction=direction, next_pipe=next_pipe)\n",
    "\n",
    "        self.curr_position = next_position\n",
    "\n",
    "    def get_next_position(self, direction: Direction) -> Position:\n",
    "        next_position_x = self.curr_position.x\n",
    "        next_position_y = self.curr_position.y\n",
    "        if direction == \"up\":\n",
    "            next_position_x -= 1\n",
    "        elif direction == \"down\":\n",
    "            next_position_x += 1\n",
    "        elif direction == \"right\":\n",
    "            next_position_y += 1\n",
    "        elif direction == \"left\":\n",
    "            next_position_y -= 1\n",
    "        return Position(x=next_position_x, y=next_position_y)\n",
    "\n",
    "    def get_pipe(self, position: Optional[Position] = None) -> Pipe:\n",
    "        if position is None:\n",
    "            position = self.curr_position\n",
    "        return self.maze[position.x][position.y]\n",
    "\n",
    "    def get_next_direction(self, prev_dir: Direction) -> Optional[Direction]:\n",
    "        curr_pipe = self.get_pipe()\n",
    "        match curr_pipe:\n",
    "            case \"|\" | \"-\":\n",
    "                next_dir = prev_dir\n",
    "            case \"L\":\n",
    "                next_dir = \"right\" if prev_dir == \"down\" else \"up\"\n",
    "            case \"J\":\n",
    "                next_dir = \"up\" if prev_dir == \"right\" else \"left\"\n",
    "            case \"7\":\n",
    "                next_dir = \"down\" if prev_dir == \"right\" else \"left\"\n",
    "            case \"F\":\n",
    "                next_dir = \"down\" if prev_dir == \"left\" else \"right\"\n",
    "            case \"S\":\n",
    "                return None\n",
    "            case _:\n",
    "                raise ValueError(f\"Unknown pipe: {curr_pipe}\")\n",
    "        return next_dir\n",
    "\n",
    "# Use the Shoelace formula to calculate the interior area\n",
    "def calc_interior_area(positions: list[Position]) -> float:\n",
    "    interior_area = 0\n",
    "    for ix in range(len(positions) - 1):\n",
    "        interior_area += positions[ix].x * positions[ix + 1].y\n",
    "        interior_area -= positions[ix].y * positions[ix + 1].x\n",
    "\n",
    "    interior_area += positions[-1].x * positions[0].y\n",
    "    interior_area -= positions[-1].y * positions[0].x\n",
    "    interior_area = abs(interior_area) / 2\n",
    "    return interior_area\n"
   ]
  },
  {
   "cell_type": "markdown",
   "metadata": {},
   "source": [
    "## Part 1"
   ]
  },
  {
   "cell_type": "code",
   "execution_count": 4,
   "metadata": {},
   "outputs": [
    {
     "name": "stdout",
     "output_type": "stream",
     "text": [
      "8.12 ms ± 35.9 µs per loop (mean ± std. dev. of 7 runs, 100 loops each)\n"
     ]
    }
   ],
   "source": [
    "%%timeit\n",
    "\n",
    "maze = PipeMaze(maze=puzzle_data)\n",
    "starting_position = maze.curr_position\n",
    "\n",
    "# First move from the starting point\n",
    "initial_direction = maze.pipe_valid_directions[\"S\"][0]\n",
    "maze.go_direction(direction=initial_direction)\n",
    "next_direction = maze.get_next_direction(prev_dir=initial_direction)\n",
    "\n",
    "# Get loop length\n",
    "loop_length = 1\n",
    "while maze.curr_position != starting_position:\n",
    "    loop_length += 1\n",
    "    maze.go_direction(direction=next_direction)\n",
    "    prev_direction = next_direction\n",
    "    next_direction = maze.get_next_direction(prev_dir=prev_direction)\n",
    "\n",
    "# Calculate how many steps its take to get from the loop starting position to\n",
    "# the loop farthest point\n",
    "n_steps_to_farthest = loop_length / 2\n",
    "assert n_steps_to_farthest == 6_786\n"
   ]
  },
  {
   "cell_type": "markdown",
   "metadata": {},
   "source": [
    "## Part 2"
   ]
  },
  {
   "cell_type": "code",
   "execution_count": 5,
   "metadata": {},
   "outputs": [
    {
     "name": "stdout",
     "output_type": "stream",
     "text": [
      "9.45 ms ± 55 µs per loop (mean ± std. dev. of 7 runs, 100 loops each)\n"
     ]
    }
   ],
   "source": [
    "%%timeit\n",
    "\n",
    "maze = PipeMaze(maze=puzzle_data)\n",
    "starting_position = maze.curr_position\n",
    "\n",
    "# First move from the starting point\n",
    "initial_direction = maze.pipe_valid_directions[\"S\"][0]\n",
    "maze.go_direction(direction=initial_direction)\n",
    "\n",
    "# Get loop tiles positions\n",
    "next_direction = initial_direction\n",
    "positions = [starting_position]\n",
    "while maze.curr_position != starting_position:\n",
    "    positions.append(maze.curr_position)\n",
    "    maze.go_direction(direction=next_direction)\n",
    "    next_direction = maze.get_next_direction(prev_dir=next_direction)\n",
    "\n",
    "# Calculate how many tiles are enclosed by the loop using the Shoelace formula\n",
    "# and Pick's theorem\n",
    "interior_area = calc_interior_area(positions=positions)\n",
    "n_interior_tiles = int(abs(interior_area) - 0.5 * len(positions) + 1)\n",
    "assert n_interior_tiles == 495\n"
   ]
  }
 ],
 "metadata": {
  "kernelspec": {
   "display_name": "Python 3",
   "language": "python",
   "name": "python3"
  },
  "language_info": {
   "codemirror_mode": {
    "name": "ipython",
    "version": 3
   },
   "file_extension": ".py",
   "mimetype": "text/x-python",
   "name": "python",
   "nbconvert_exporter": "python",
   "pygments_lexer": "ipython3",
   "version": "3.11.6"
  }
 },
 "nbformat": 4,
 "nbformat_minor": 2
}
