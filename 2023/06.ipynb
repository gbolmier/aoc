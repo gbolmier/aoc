{
 "cells": [
  {
   "cell_type": "markdown",
   "metadata": {},
   "source": [
    "# Day 06"
   ]
  },
  {
   "cell_type": "markdown",
   "metadata": {},
   "source": [
    "Read input."
   ]
  },
  {
   "cell_type": "code",
   "execution_count": 1,
   "metadata": {},
   "outputs": [],
   "source": [
    "with open(\"06_input.txt\", \"r\") as f:\n",
    "    input = f.read().splitlines()\n"
   ]
  },
  {
   "cell_type": "markdown",
   "metadata": {},
   "source": [
    "## Part 1"
   ]
  },
  {
   "cell_type": "markdown",
   "metadata": {},
   "source": [
    "Define utility functions."
   ]
  },
  {
   "cell_type": "code",
   "execution_count": 2,
   "metadata": {},
   "outputs": [],
   "source": [
    "def traveled_distance(hold_time, race_duration):\n",
    "    return hold_time * (race_duration - hold_time)\n",
    "\n",
    "\n",
    "def calculate_n_ways_of_win(race_duration, race_record):\n",
    "    last_hold_time_to_win = None\n",
    "    first_hold_time_to_win = None\n",
    "\n",
    "    for hold_time in range(1, race_duration):\n",
    "        if traveled_distance(hold_time, race_duration) > race_record:\n",
    "            first_hold_time_to_win = hold_time\n",
    "            break\n",
    "\n",
    "    for hold_time in range(race_duration -1, 0, -1):\n",
    "        if traveled_distance(hold_time, race_duration) > race_record:\n",
    "            last_hold_time_to_win = hold_time\n",
    "            break\n",
    "\n",
    "    n_ways_of_win = last_hold_time_to_win - first_hold_time_to_win + 1\n",
    "    return n_ways_of_win\n"
   ]
  },
  {
   "cell_type": "code",
   "execution_count": 3,
   "metadata": {},
   "outputs": [
    {
     "name": "stdout",
     "output_type": "stream",
     "text": [
      "8.92 µs ± 112 ns per loop (mean ± std. dev. of 7 runs, 100,000 loops each)\n"
     ]
    }
   ],
   "source": [
    "%%timeit\n",
    "\n",
    "times = [int(t) for t in input[0].split()[1:]]\n",
    "distances = [int(dist) for dist in input[1].split()[1:]]\n",
    "\n",
    "res = 1\n",
    "for race_duration, race_record in zip(times, distances):\n",
    "    res *= calculate_n_ways_of_win(race_duration, race_record)\n",
    "\n",
    "assert res == 500_346\n"
   ]
  },
  {
   "cell_type": "markdown",
   "metadata": {},
   "source": [
    "## Part 2"
   ]
  },
  {
   "cell_type": "code",
   "execution_count": 4,
   "metadata": {},
   "outputs": [
    {
     "name": "stdout",
     "output_type": "stream",
     "text": [
      "442 ms ± 1.2 ms per loop (mean ± std. dev. of 7 runs, 1 loop each)\n"
     ]
    }
   ],
   "source": [
    "%%timeit\n",
    "\n",
    "race_duration = int(\"\".join(input[0].split()[1:]))\n",
    "race_record = int(\"\".join(input[1].split()[1:]))\n",
    "\n",
    "n_ways_of_win = calculate_n_ways_of_win(race_duration, race_record)\n",
    "\n",
    "assert n_ways_of_win == 42_515_755\n"
   ]
  }
 ],
 "metadata": {
  "kernelspec": {
   "display_name": "Python 3",
   "language": "python",
   "name": "python3"
  },
  "language_info": {
   "codemirror_mode": {
    "name": "ipython",
    "version": 3
   },
   "file_extension": ".py",
   "mimetype": "text/x-python",
   "name": "python",
   "nbconvert_exporter": "python",
   "pygments_lexer": "ipython3",
   "version": "3.11.6"
  }
 },
 "nbformat": 4,
 "nbformat_minor": 2
}
