{
 "cells": [
  {
   "cell_type": "markdown",
   "metadata": {},
   "source": [
    "# Day 03"
   ]
  },
  {
   "cell_type": "markdown",
   "metadata": {},
   "source": [
    "Imports."
   ]
  },
  {
   "cell_type": "code",
   "execution_count": 1,
   "metadata": {},
   "outputs": [],
   "source": [
    "import re\n"
   ]
  },
  {
   "cell_type": "markdown",
   "metadata": {},
   "source": [
    "Read input."
   ]
  },
  {
   "cell_type": "code",
   "execution_count": 2,
   "metadata": {},
   "outputs": [],
   "source": [
    "with open(\"03_input.txt\", \"r\") as f:\n",
    "    input = f.read().splitlines()\n"
   ]
  },
  {
   "cell_type": "markdown",
   "metadata": {},
   "source": [
    "## Part 1"
   ]
  },
  {
   "cell_type": "code",
   "execution_count": 3,
   "metadata": {},
   "outputs": [
    {
     "name": "stdout",
     "output_type": "stream",
     "text": [
      "1.9 ms ± 14.4 µs per loop (mean ± std. dev. of 7 runs, 1,000 loops each)\n"
     ]
    }
   ],
   "source": [
    "%%timeit\n",
    "\n",
    "not_a_symbol = [str(digit) for digit in range(10)]\n",
    "not_a_symbol.insert(0, \".\")\n",
    "\n",
    "n_lines, line_length = len(input), len(input[0])\n",
    "sum = 0\n",
    "\n",
    "for curr_line_ix, line in enumerate(input):\n",
    "    prev_line_ix = max(0, curr_line_ix - 1)\n",
    "    next_line_ix = min(n_lines - 1, curr_line_ix + 1)\n",
    "\n",
    "    for match_nb in re.finditer(r\"\\d+\", line):\n",
    "        nb_ix_start, nb_ix_end = match_nb.span()\n",
    "        adj_ix_start = max(0, nb_ix_start - 1)\n",
    "        adj_ix_end = min(line_length - 1, nb_ix_end)\n",
    "\n",
    "        is_part_nb = False\n",
    "        for ix in range(adj_ix_start, adj_ix_end + 1):\n",
    "            if any(\n",
    "                (\n",
    "                    input[prev_line_ix][ix] not in not_a_symbol,\n",
    "                    input[curr_line_ix][ix] not in not_a_symbol,\n",
    "                    input[next_line_ix][ix] not in not_a_symbol,\n",
    "                )\n",
    "            ):\n",
    "                is_part_nb = True\n",
    "\n",
    "        if is_part_nb:\n",
    "            sum += int(match_nb.group())\n",
    "\n",
    "assert sum == 526_404\n"
   ]
  },
  {
   "cell_type": "markdown",
   "metadata": {},
   "source": [
    "## Part 2"
   ]
  },
  {
   "cell_type": "code",
   "execution_count": 4,
   "metadata": {},
   "outputs": [
    {
     "name": "stdout",
     "output_type": "stream",
     "text": [
      "4.2 ms ± 45.4 µs per loop (mean ± std. dev. of 7 runs, 100 loops each)\n"
     ]
    }
   ],
   "source": [
    "%%timeit\n",
    "\n",
    "n_lines, line_length = len(input), len(input[0])\n",
    "sum = 0\n",
    "\n",
    "for curr_line_ix, line in enumerate(input):\n",
    "    prev_line_ix = max(0, curr_line_ix - 1)\n",
    "    next_line_ix = min(n_lines - 1, curr_line_ix + 1)\n",
    "\n",
    "    for match_star in re.finditer(r\"\\*\", line):\n",
    "        match_ix, _ = match_star.span()\n",
    "        adj_ix_start = max(0, match_ix - 1)\n",
    "        adj_ix_end = min(line_length - 1, match_ix + 1)\n",
    "\n",
    "        adj_nb = []\n",
    "        for line_ix in [prev_line_ix, curr_line_ix, next_line_ix]:\n",
    "            for match_nb in re.finditer(r\"\\d+\", input[line_ix]):\n",
    "                nb_ix_start, nb_ix_end = match_nb.span()\n",
    "                nb_range = range(nb_ix_start, nb_ix_end)\n",
    "                if adj_ix_start in nb_range or adj_ix_end in nb_range:\n",
    "                    adj_nb.append(int(match_nb.group()))\n",
    "\n",
    "        if len(adj_nb) == 2:\n",
    "            sum += adj_nb[0] * adj_nb[1]\n",
    "\n",
    "assert sum == 84_399_773\n"
   ]
  }
 ],
 "metadata": {
  "kernelspec": {
   "display_name": "Python 3",
   "language": "python",
   "name": "python3"
  },
  "language_info": {
   "codemirror_mode": {
    "name": "ipython",
    "version": 3
   },
   "file_extension": ".py",
   "mimetype": "text/x-python",
   "name": "python",
   "nbconvert_exporter": "python",
   "pygments_lexer": "ipython3",
   "version": "3.11.6"
  }
 },
 "nbformat": 4,
 "nbformat_minor": 2
}
