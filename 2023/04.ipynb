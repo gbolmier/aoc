{
 "cells": [
  {
   "cell_type": "markdown",
   "metadata": {},
   "source": [
    "# Day 04"
   ]
  },
  {
   "cell_type": "markdown",
   "metadata": {},
   "source": [
    "Imports."
   ]
  },
  {
   "cell_type": "code",
   "execution_count": 1,
   "metadata": {},
   "outputs": [],
   "source": [
    "import collections\n"
   ]
  },
  {
   "cell_type": "markdown",
   "metadata": {},
   "source": [
    "Read input."
   ]
  },
  {
   "cell_type": "code",
   "execution_count": 2,
   "metadata": {},
   "outputs": [],
   "source": [
    "with open(\"04_input.txt\", \"r\") as f:\n",
    "    input = f.read().splitlines()\n"
   ]
  },
  {
   "cell_type": "markdown",
   "metadata": {},
   "source": [
    "## Part 1"
   ]
  },
  {
   "cell_type": "code",
   "execution_count": 3,
   "metadata": {},
   "outputs": [
    {
     "name": "stdout",
     "output_type": "stream",
     "text": [
      "506 µs ± 8.78 µs per loop (mean ± std. dev. of 7 runs, 1,000 loops each)\n"
     ]
    }
   ],
   "source": [
    "%%timeit\n",
    "\n",
    "total_pts = 0\n",
    "\n",
    "for card in input:\n",
    "    _, card_numbers = card.split(\":\")\n",
    "    raw_winning_numbers, raw_numbers = card_numbers.split(\"|\")\n",
    "    winning_numbers = raw_winning_numbers.split()\n",
    "    numbers = raw_numbers.split()\n",
    "    n_matches = len(set(winning_numbers) & set(numbers))\n",
    "    card_pts = int(2 ** (n_matches - 1))\n",
    "    total_pts += card_pts\n",
    "\n",
    "assert total_pts == 25_231\n"
   ]
  },
  {
   "cell_type": "markdown",
   "metadata": {},
   "source": [
    "## Part 2"
   ]
  },
  {
   "cell_type": "code",
   "execution_count": 4,
   "metadata": {},
   "outputs": [
    {
     "name": "stdout",
     "output_type": "stream",
     "text": [
      "555 µs ± 1.4 µs per loop (mean ± std. dev. of 7 runs, 1,000 loops each)\n"
     ]
    }
   ],
   "source": [
    "%%timeit\n",
    "\n",
    "cards_counts = collections.defaultdict(lambda: 1)\n",
    "\n",
    "for card_ix, card in enumerate(input):\n",
    "    _, card_numbers = card.split(\":\")\n",
    "    raw_winning_numbers, raw_numbers = card_numbers.split(\"|\")\n",
    "    winning_numbers = raw_winning_numbers.split()\n",
    "    numbers = raw_numbers.split()\n",
    "    n_matches = len(set(winning_numbers) & set(numbers))\n",
    "\n",
    "    curr_card_cnt = cards_counts[card_ix]\n",
    "    for i in range(1, n_matches + 1):\n",
    "        cards_counts[card_ix + i] += curr_card_cnt\n",
    "\n",
    "assert sum(cards_counts.values()) == 9_721_255\n"
   ]
  }
 ],
 "metadata": {
  "kernelspec": {
   "display_name": "Python 3",
   "language": "python",
   "name": "python3"
  },
  "language_info": {
   "codemirror_mode": {
    "name": "ipython",
    "version": 3
   },
   "file_extension": ".py",
   "mimetype": "text/x-python",
   "name": "python",
   "nbconvert_exporter": "python",
   "pygments_lexer": "ipython3",
   "version": "3.11.6"
  }
 },
 "nbformat": 4,
 "nbformat_minor": 2
}
