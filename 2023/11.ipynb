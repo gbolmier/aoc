{
 "cells": [
  {
   "cell_type": "markdown",
   "metadata": {},
   "source": [
    "# Day 11"
   ]
  },
  {
   "cell_type": "markdown",
   "metadata": {},
   "source": [
    "Imports."
   ]
  },
  {
   "cell_type": "code",
   "execution_count": 1,
   "metadata": {},
   "outputs": [],
   "source": [
    "from itertools import combinations\n"
   ]
  },
  {
   "cell_type": "markdown",
   "metadata": {},
   "source": [
    "Read input."
   ]
  },
  {
   "cell_type": "code",
   "execution_count": 2,
   "metadata": {},
   "outputs": [],
   "source": [
    "with open(\"11_input.txt\", \"r\") as f:\n",
    "    puzzle_data = f.read().splitlines()\n"
   ]
  },
  {
   "cell_type": "markdown",
   "metadata": {},
   "source": [
    "Define utility functions."
   ]
  },
  {
   "cell_type": "code",
   "execution_count": 3,
   "metadata": {},
   "outputs": [],
   "source": [
    "def parse_input(\n",
    "    puzzle_data: list[str]\n",
    ") -> tuple[list[list[str]], set[int], set[int], list[tuple[int, int]]]:\n",
    "    col_len = len(puzzle_data[0])\n",
    "    cols = [[] for _ in range(col_len)]\n",
    "    rows_w_galaxies = set()\n",
    "    cols_w_galaxies = set()\n",
    "    galaxies_indices = []\n",
    "\n",
    "    for row_ix, line in enumerate(puzzle_data):\n",
    "\n",
    "        for col_ix, char in enumerate(line):\n",
    "            cols[col_ix].append(char)\n",
    "            if char == \"#\":\n",
    "                rows_w_galaxies.add(row_ix)\n",
    "                cols_w_galaxies.add(col_ix)\n",
    "                galaxies_indices.append((row_ix, col_ix))\n",
    "\n",
    "    return cols, rows_w_galaxies, cols_w_galaxies, galaxies_indices\n",
    "\n",
    "\n",
    "def calc_range_n_expansions(\n",
    "    ix_1: int, ix_2: int, non_expanded_indices: set[int], expansion_size: int\n",
    ") -> int:\n",
    "    start_ix = min(ix_1, ix_2) + 1\n",
    "    end_ix = max(ix_1, ix_2)\n",
    "    return sum(\n",
    "        expansion_size\n",
    "        for ix in range(start_ix, end_ix)\n",
    "        if ix not in non_expanded_indices\n",
    "    )\n",
    "\n",
    "\n",
    "def calc_distances_sum(\n",
    "    galaxies_indices: list[tuple[int, int]],\n",
    "    rows_w_galaxies: set[int],\n",
    "    cols_w_galaxies: set[int],\n",
    "    expansion_size: int,\n",
    ") -> int:\n",
    "    distances_sum = 0\n",
    "    for g1_indices, g2_indices in combinations(galaxies_indices, 2):\n",
    "        g1_x, g1_y = g1_indices\n",
    "        g2_x, g2_y = g2_indices\n",
    "\n",
    "        distance = (\n",
    "            abs(g1_x - g2_x) + abs(g1_y - g2_y)\n",
    "            + calc_range_n_expansions(\n",
    "                g1_x, g2_x, rows_w_galaxies, expansion_size\n",
    "            )\n",
    "            + calc_range_n_expansions(\n",
    "                g1_y, g2_y, cols_w_galaxies, expansion_size\n",
    "            )\n",
    "        )\n",
    "        distances_sum += distance\n",
    "\n",
    "    return distances_sum\n"
   ]
  },
  {
   "cell_type": "markdown",
   "metadata": {},
   "source": [
    "## Part 1"
   ]
  },
  {
   "cell_type": "code",
   "execution_count": 4,
   "metadata": {},
   "outputs": [
    {
     "name": "stdout",
     "output_type": "stream",
     "text": [
      "212 ms ± 2.53 ms per loop (mean ± std. dev. of 7 runs, 1 loop each)\n"
     ]
    }
   ],
   "source": [
    "%%timeit\n",
    "\n",
    "col_len = len(puzzle_data[0])\n",
    "res = parse_input(puzzle_data)\n",
    "(cols, rows_w_galaxies, cols_w_galaxies, galaxies_indices) = res\n",
    "\n",
    "distances_sum = calc_distances_sum(\n",
    "    galaxies_indices=galaxies_indices,\n",
    "    rows_w_galaxies=rows_w_galaxies,\n",
    "    cols_w_galaxies=cols_w_galaxies,\n",
    "    expansion_size=1\n",
    ")\n",
    "\n",
    "assert distances_sum == 10_154_062\n"
   ]
  },
  {
   "cell_type": "markdown",
   "metadata": {},
   "source": [
    "## Part 2"
   ]
  },
  {
   "cell_type": "code",
   "execution_count": 5,
   "metadata": {},
   "outputs": [
    {
     "name": "stdout",
     "output_type": "stream",
     "text": [
      "216 ms ± 1.46 ms per loop (mean ± std. dev. of 7 runs, 1 loop each)\n"
     ]
    }
   ],
   "source": [
    "%%timeit\n",
    "\n",
    "col_len = len(puzzle_data[0])\n",
    "res = parse_input(puzzle_data)\n",
    "(cols, rows_w_galaxies, cols_w_galaxies, galaxies_indices) = res\n",
    "\n",
    "distances_sum = calc_distances_sum(\n",
    "    galaxies_indices=galaxies_indices,\n",
    "    rows_w_galaxies=rows_w_galaxies,\n",
    "    cols_w_galaxies=cols_w_galaxies,\n",
    "    expansion_size=999_999\n",
    ")\n",
    "\n",
    "assert distances_sum == 553_083_047_914\n"
   ]
  }
 ],
 "metadata": {
  "kernelspec": {
   "display_name": "Python 3",
   "language": "python",
   "name": "python3"
  },
  "language_info": {
   "codemirror_mode": {
    "name": "ipython",
    "version": 3
   },
   "file_extension": ".py",
   "mimetype": "text/x-python",
   "name": "python",
   "nbconvert_exporter": "python",
   "pygments_lexer": "ipython3",
   "version": "3.11.6"
  }
 },
 "nbformat": 4,
 "nbformat_minor": 2
}
